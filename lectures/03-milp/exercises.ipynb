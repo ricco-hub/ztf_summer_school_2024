{
  "cells": [
    {
      "cell_type": "markdown",
      "metadata": {
        "id": "UbIQUNnrMeME"
      },
      "source": [
        "Run this to install dependencies..."
      ]
    },
    {
      "cell_type": "code",
      "execution_count": 2,
      "metadata": {
        "id": "XzPE6fvPMeMM",
        "outputId": "f15f5b4c-a4f4-47a0-ad46-abd2814086db",
        "colab": {
          "base_uri": "https://localhost:8080/"
        }
      },
      "outputs": [
        {
          "output_type": "stream",
          "name": "stdout",
          "text": [
            "Collecting ligo.skymap\n",
            "  Downloading ligo.skymap-2.0.1-cp310-abi3-manylinux_2_28_x86_64.whl.metadata (5.2 kB)\n",
            "Requirement already satisfied: scipy<1.14.0 in /usr/local/lib/python3.10/dist-packages (1.13.1)\n",
            "Requirement already satisfied: numpy<2 in /usr/local/lib/python3.10/dist-packages (1.26.4)\n",
            "Collecting highspy\n",
            "  Downloading highspy-1.7.2-cp310-cp310-manylinux_2_17_x86_64.manylinux2014_x86_64.whl.metadata (10 kB)\n",
            "Collecting astroplan>=0.7 (from ligo.skymap)\n",
            "  Downloading astroplan-0.10.tar.gz (140 kB)\n",
            "\u001b[2K     \u001b[90m━━━━━━━━━━━━━━━━━━━━━━━━━━━━━━━━━━━━━━━━\u001b[0m \u001b[32m140.4/140.4 kB\u001b[0m \u001b[31m5.2 MB/s\u001b[0m eta \u001b[36m0:00:00\u001b[0m\n",
            "\u001b[?25h  Installing build dependencies ... \u001b[?25l\u001b[?25hdone\n",
            "  Getting requirements to build wheel ... \u001b[?25l\u001b[?25hdone\n",
            "  Preparing metadata (pyproject.toml) ... \u001b[?25l\u001b[?25hdone\n",
            "Requirement already satisfied: astropy>=6.0 in /usr/local/lib/python3.10/dist-packages (from ligo.skymap) (6.1.2)\n",
            "Collecting astropy-healpix>=0.3 (from ligo.skymap)\n",
            "  Downloading astropy_healpix-1.0.3-cp39-abi3-manylinux_2_17_x86_64.manylinux2014_x86_64.whl.metadata (4.1 kB)\n",
            "Collecting healpy (from ligo.skymap)\n",
            "  Downloading healpy-1.17.3-cp310-cp310-manylinux_2_17_x86_64.manylinux2014_x86_64.whl.metadata (8.9 kB)\n",
            "Requirement already satisfied: h5py in /usr/local/lib/python3.10/dist-packages (from ligo.skymap) (3.11.0)\n",
            "Collecting lalsuite!=7.2,>=6.82 (from ligo.skymap)\n",
            "  Downloading lalsuite-7.22-cp310-cp310-manylinux_2_28_x86_64.whl.metadata (3.1 kB)\n",
            "Collecting ligo-gracedb>=2.0.1 (from ligo.skymap)\n",
            "  Downloading ligo-gracedb-2.12.0.tar.gz (2.3 MB)\n",
            "\u001b[2K     \u001b[90m━━━━━━━━━━━━━━━━━━━━━━━━━━━━━━━━━━━━━━━━\u001b[0m \u001b[32m2.3/2.3 MB\u001b[0m \u001b[31m37.9 MB/s\u001b[0m eta \u001b[36m0:00:00\u001b[0m\n",
            "\u001b[?25h  Preparing metadata (setup.py) ... \u001b[?25l\u001b[?25hdone\n",
            "Collecting ligo-segments>=1.2.0 (from ligo.skymap)\n",
            "  Downloading ligo-segments-1.4.0.tar.gz (51 kB)\n",
            "\u001b[2K     \u001b[90m━━━━━━━━━━━━━━━━━━━━━━━━━━━━━━━━━━━━━━━━\u001b[0m \u001b[32m51.0/51.0 kB\u001b[0m \u001b[31m3.2 MB/s\u001b[0m eta \u001b[36m0:00:00\u001b[0m\n",
            "\u001b[?25h  Preparing metadata (setup.py) ... \u001b[?25l\u001b[?25hdone\n",
            "Requirement already satisfied: matplotlib>=3.5.0 in /usr/local/lib/python3.10/dist-packages (from ligo.skymap) (3.7.1)\n",
            "Requirement already satisfied: networkx in /usr/local/lib/python3.10/dist-packages (from ligo.skymap) (3.3)\n",
            "Requirement already satisfied: pillow>=2.5.0 in /usr/local/lib/python3.10/dist-packages (from ligo.skymap) (9.4.0)\n",
            "Collecting ptemcee (from ligo.skymap)\n",
            "  Downloading ptemcee-1.0.0.tar.gz (17 kB)\n",
            "  Preparing metadata (setup.py) ... \u001b[?25l\u001b[?25hdone\n",
            "Collecting python-ligo-lw>=1.8.0 (from ligo.skymap)\n",
            "  Downloading python-ligo-lw-1.8.3.tar.gz (2.3 MB)\n",
            "\u001b[2K     \u001b[90m━━━━━━━━━━━━━━━━━━━━━━━━━━━━━━━━━━━━━━━━\u001b[0m \u001b[32m2.3/2.3 MB\u001b[0m \u001b[31m65.2 MB/s\u001b[0m eta \u001b[36m0:00:00\u001b[0m\n",
            "\u001b[?25h  Preparing metadata (setup.py) ... \u001b[?25l\u001b[?25hdone\n",
            "Requirement already satisfied: pytz in /usr/local/lib/python3.10/dist-packages (from ligo.skymap) (2024.1)\n",
            "Collecting reproject>=0.3.2 (from ligo.skymap)\n",
            "  Downloading reproject-0.14.0-cp310-cp310-manylinux_2_17_x86_64.manylinux2014_x86_64.whl.metadata (3.2 kB)\n",
            "Requirement already satisfied: tqdm>=4.27.0 in /usr/local/lib/python3.10/dist-packages (from ligo.skymap) (4.66.4)\n",
            "Requirement already satisfied: six in /usr/local/lib/python3.10/dist-packages (from astroplan>=0.7->ligo.skymap) (1.16.0)\n",
            "Requirement already satisfied: pyerfa>=2.0.1.1 in /usr/local/lib/python3.10/dist-packages (from astropy>=6.0->ligo.skymap) (2.0.1.4)\n",
            "Requirement already satisfied: astropy-iers-data>=0.2024.7.1.0.34.3 in /usr/local/lib/python3.10/dist-packages (from astropy>=6.0->ligo.skymap) (0.2024.7.29.0.32.7)\n",
            "Requirement already satisfied: PyYAML>=3.13 in /usr/local/lib/python3.10/dist-packages (from astropy>=6.0->ligo.skymap) (6.0.1)\n",
            "Requirement already satisfied: packaging>=19.0 in /usr/local/lib/python3.10/dist-packages (from astropy>=6.0->ligo.skymap) (24.1)\n",
            "Collecting lscsoft-glue (from lalsuite!=7.2,>=6.82->ligo.skymap)\n",
            "  Downloading lscsoft_glue-4.0.0-py3-none-any.whl.metadata (1.4 kB)\n",
            "Requirement already satisfied: python-dateutil in /usr/local/lib/python3.10/dist-packages (from lalsuite!=7.2,>=6.82->ligo.skymap) (2.8.2)\n",
            "Requirement already satisfied: future>=0.15.0 in /usr/local/lib/python3.10/dist-packages (from ligo-gracedb>=2.0.1->ligo.skymap) (1.0.0)\n",
            "Requirement already satisfied: cryptography>=1.7.2 in /usr/local/lib/python3.10/dist-packages (from ligo-gracedb>=2.0.1->ligo.skymap) (42.0.8)\n",
            "Requirement already satisfied: requests>=2.6.0 in /usr/local/lib/python3.10/dist-packages (from ligo-gracedb>=2.0.1->ligo.skymap) (2.31.0)\n",
            "Collecting igwn-auth-utils>=1.0.0 (from ligo-gracedb>=2.0.1->ligo.skymap)\n",
            "  Downloading igwn_auth_utils-1.1.0-py3-none-any.whl.metadata (3.9 kB)\n",
            "Requirement already satisfied: contourpy>=1.0.1 in /usr/local/lib/python3.10/dist-packages (from matplotlib>=3.5.0->ligo.skymap) (1.2.1)\n",
            "Requirement already satisfied: cycler>=0.10 in /usr/local/lib/python3.10/dist-packages (from matplotlib>=3.5.0->ligo.skymap) (0.12.1)\n",
            "Requirement already satisfied: fonttools>=4.22.0 in /usr/local/lib/python3.10/dist-packages (from matplotlib>=3.5.0->ligo.skymap) (4.53.1)\n",
            "Requirement already satisfied: kiwisolver>=1.0.1 in /usr/local/lib/python3.10/dist-packages (from matplotlib>=3.5.0->ligo.skymap) (1.4.5)\n",
            "Requirement already satisfied: pyparsing>=2.3.1 in /usr/local/lib/python3.10/dist-packages (from matplotlib>=3.5.0->ligo.skymap) (3.1.2)\n",
            "Requirement already satisfied: dask>=2021.8 in /usr/local/lib/python3.10/dist-packages (from dask[array]>=2021.8->reproject>=0.3.2->ligo.skymap) (2024.7.1)\n",
            "Requirement already satisfied: cloudpickle in /usr/local/lib/python3.10/dist-packages (from reproject>=0.3.2->ligo.skymap) (2.2.1)\n",
            "Collecting zarr (from reproject>=0.3.2->ligo.skymap)\n",
            "  Downloading zarr-2.18.2-py3-none-any.whl.metadata (5.7 kB)\n",
            "Requirement already satisfied: fsspec in /usr/local/lib/python3.10/dist-packages (from reproject>=0.3.2->ligo.skymap) (2024.6.1)\n",
            "Requirement already satisfied: cffi>=1.12 in /usr/local/lib/python3.10/dist-packages (from cryptography>=1.7.2->ligo-gracedb>=2.0.1->ligo.skymap) (1.16.0)\n",
            "Requirement already satisfied: click>=8.1 in /usr/local/lib/python3.10/dist-packages (from dask>=2021.8->dask[array]>=2021.8->reproject>=0.3.2->ligo.skymap) (8.1.7)\n",
            "Requirement already satisfied: partd>=1.4.0 in /usr/local/lib/python3.10/dist-packages (from dask>=2021.8->dask[array]>=2021.8->reproject>=0.3.2->ligo.skymap) (1.4.2)\n",
            "Requirement already satisfied: toolz>=0.10.0 in /usr/local/lib/python3.10/dist-packages (from dask>=2021.8->dask[array]>=2021.8->reproject>=0.3.2->ligo.skymap) (0.12.1)\n",
            "Requirement already satisfied: importlib-metadata>=4.13.0 in /usr/local/lib/python3.10/dist-packages (from dask>=2021.8->dask[array]>=2021.8->reproject>=0.3.2->ligo.skymap) (8.2.0)\n",
            "Collecting safe-netrc>=1.0.0 (from igwn-auth-utils>=1.0.0->ligo-gracedb>=2.0.1->ligo.skymap)\n",
            "  Downloading safe_netrc-1.0.1-py3-none-any.whl.metadata (1.9 kB)\n",
            "Collecting scitokens>=1.7.0 (from igwn-auth-utils>=1.0.0->ligo-gracedb>=2.0.1->ligo.skymap)\n",
            "  Downloading scitokens-1.8.1-py3-none-any.whl.metadata (12 kB)\n",
            "Requirement already satisfied: charset-normalizer<4,>=2 in /usr/local/lib/python3.10/dist-packages (from requests>=2.6.0->ligo-gracedb>=2.0.1->ligo.skymap) (3.3.2)\n",
            "Requirement already satisfied: idna<4,>=2.5 in /usr/local/lib/python3.10/dist-packages (from requests>=2.6.0->ligo-gracedb>=2.0.1->ligo.skymap) (3.7)\n",
            "Requirement already satisfied: urllib3<3,>=1.21.1 in /usr/local/lib/python3.10/dist-packages (from requests>=2.6.0->ligo-gracedb>=2.0.1->ligo.skymap) (2.0.7)\n",
            "Requirement already satisfied: certifi>=2017.4.17 in /usr/local/lib/python3.10/dist-packages (from requests>=2.6.0->ligo-gracedb>=2.0.1->ligo.skymap) (2024.7.4)\n",
            "Requirement already satisfied: pyOpenSSL in /usr/local/lib/python3.10/dist-packages (from lscsoft-glue->lalsuite!=7.2,>=6.82->ligo.skymap) (24.2.1)\n",
            "Collecting asciitree (from zarr->reproject>=0.3.2->ligo.skymap)\n",
            "  Downloading asciitree-0.3.3.tar.gz (4.0 kB)\n",
            "  Preparing metadata (setup.py) ... \u001b[?25l\u001b[?25hdone\n",
            "Collecting numcodecs>=0.10.0 (from zarr->reproject>=0.3.2->ligo.skymap)\n",
            "  Downloading numcodecs-0.13.0-cp310-cp310-manylinux_2_17_x86_64.manylinux2014_x86_64.whl.metadata (2.9 kB)\n",
            "Collecting fasteners (from zarr->reproject>=0.3.2->ligo.skymap)\n",
            "  Downloading fasteners-0.19-py3-none-any.whl.metadata (4.9 kB)\n",
            "Requirement already satisfied: pycparser in /usr/local/lib/python3.10/dist-packages (from cffi>=1.12->cryptography>=1.7.2->ligo-gracedb>=2.0.1->ligo.skymap) (2.22)\n",
            "Requirement already satisfied: zipp>=0.5 in /usr/local/lib/python3.10/dist-packages (from importlib-metadata>=4.13.0->dask>=2021.8->dask[array]>=2021.8->reproject>=0.3.2->ligo.skymap) (3.19.2)\n",
            "Requirement already satisfied: locket in /usr/local/lib/python3.10/dist-packages (from partd>=1.4.0->dask>=2021.8->dask[array]>=2021.8->reproject>=0.3.2->ligo.skymap) (1.0.0)\n",
            "Requirement already satisfied: PyJWT>=1.6.1 in /usr/local/lib/python3.10/dist-packages (from scitokens>=1.7.0->igwn-auth-utils>=1.0.0->ligo-gracedb>=2.0.1->ligo.skymap) (2.8.0)\n",
            "Downloading ligo.skymap-2.0.1-cp310-abi3-manylinux_2_28_x86_64.whl (21.3 MB)\n",
            "\u001b[2K   \u001b[90m━━━━━━━━━━━━━━━━━━━━━━━━━━━━━━━━━━━━━━━━\u001b[0m \u001b[32m21.3/21.3 MB\u001b[0m \u001b[31m9.3 MB/s\u001b[0m eta \u001b[36m0:00:00\u001b[0m\n",
            "\u001b[?25hDownloading highspy-1.7.2-cp310-cp310-manylinux_2_17_x86_64.manylinux2014_x86_64.whl (2.1 MB)\n",
            "\u001b[2K   \u001b[90m━━━━━━━━━━━━━━━━━━━━━━━━━━━━━━━━━━━━━━━━\u001b[0m \u001b[32m2.1/2.1 MB\u001b[0m \u001b[31m57.5 MB/s\u001b[0m eta \u001b[36m0:00:00\u001b[0m\n",
            "\u001b[?25hDownloading astropy_healpix-1.0.3-cp39-abi3-manylinux_2_17_x86_64.manylinux2014_x86_64.whl (194 kB)\n",
            "\u001b[2K   \u001b[90m━━━━━━━━━━━━━━━━━━━━━━━━━━━━━━━━━━━━━━━━\u001b[0m \u001b[32m194.8/194.8 kB\u001b[0m \u001b[31m13.2 MB/s\u001b[0m eta \u001b[36m0:00:00\u001b[0m\n",
            "\u001b[?25hDownloading lalsuite-7.22-cp310-cp310-manylinux_2_28_x86_64.whl (43.1 MB)\n",
            "\u001b[2K   \u001b[90m━━━━━━━━━━━━━━━━━━━━━━━━━━━━━━━━━━━━━━━━\u001b[0m \u001b[32m43.1/43.1 MB\u001b[0m \u001b[31m18.1 MB/s\u001b[0m eta \u001b[36m0:00:00\u001b[0m\n",
            "\u001b[?25hDownloading reproject-0.14.0-cp310-cp310-manylinux_2_17_x86_64.manylinux2014_x86_64.whl (1.6 MB)\n",
            "\u001b[2K   \u001b[90m━━━━━━━━━━━━━━━━━━━━━━━━━━━━━━━━━━━━━━━━\u001b[0m \u001b[32m1.6/1.6 MB\u001b[0m \u001b[31m49.7 MB/s\u001b[0m eta \u001b[36m0:00:00\u001b[0m\n",
            "\u001b[?25hDownloading healpy-1.17.3-cp310-cp310-manylinux_2_17_x86_64.manylinux2014_x86_64.whl (8.3 MB)\n",
            "\u001b[2K   \u001b[90m━━━━━━━━━━━━━━━━━━━━━━━━━━━━━━━━━━━━━━━━\u001b[0m \u001b[32m8.3/8.3 MB\u001b[0m \u001b[31m51.5 MB/s\u001b[0m eta \u001b[36m0:00:00\u001b[0m\n",
            "\u001b[?25hDownloading igwn_auth_utils-1.1.0-py3-none-any.whl (26 kB)\n",
            "Downloading lscsoft_glue-4.0.0-py3-none-any.whl (46 kB)\n",
            "\u001b[2K   \u001b[90m━━━━━━━━━━━━━━━━━━━━━━━━━━━━━━━━━━━━━━━━\u001b[0m \u001b[32m46.5/46.5 kB\u001b[0m \u001b[31m3.3 MB/s\u001b[0m eta \u001b[36m0:00:00\u001b[0m\n",
            "\u001b[?25hDownloading zarr-2.18.2-py3-none-any.whl (210 kB)\n",
            "\u001b[2K   \u001b[90m━━━━━━━━━━━━━━━━━━━━━━━━━━━━━━━━━━━━━━━━\u001b[0m \u001b[32m210.2/210.2 kB\u001b[0m \u001b[31m14.5 MB/s\u001b[0m eta \u001b[36m0:00:00\u001b[0m\n",
            "\u001b[?25hDownloading numcodecs-0.13.0-cp310-cp310-manylinux_2_17_x86_64.manylinux2014_x86_64.whl (8.6 MB)\n",
            "\u001b[2K   \u001b[90m━━━━━━━━━━━━━━━━━━━━━━━━━━━━━━━━━━━━━━━━\u001b[0m \u001b[32m8.6/8.6 MB\u001b[0m \u001b[31m67.0 MB/s\u001b[0m eta \u001b[36m0:00:00\u001b[0m\n",
            "\u001b[?25hDownloading safe_netrc-1.0.1-py3-none-any.whl (10 kB)\n",
            "Downloading scitokens-1.8.1-py3-none-any.whl (31 kB)\n",
            "Downloading fasteners-0.19-py3-none-any.whl (18 kB)\n",
            "Building wheels for collected packages: astroplan, ligo-gracedb, ligo-segments, python-ligo-lw, ptemcee, asciitree\n",
            "  Building wheel for astroplan (pyproject.toml) ... \u001b[?25l\u001b[?25hdone\n",
            "  Created wheel for astroplan: filename=astroplan-0.10-py3-none-any.whl size=83832 sha256=6c9985e287c11df4381fa84a2af962f7f1830aa9274370ce149131c9c7be3d00\n",
            "  Stored in directory: /root/.cache/pip/wheels/f1/1d/bd/ce95e8776b8ebc0f8a432c8a18d9268ede4d9d5a5b24c22a6c\n",
            "  Building wheel for ligo-gracedb (setup.py) ... \u001b[?25l\u001b[?25hdone\n",
            "  Created wheel for ligo-gracedb: filename=ligo_gracedb-2.12.0-py2.py3-none-any.whl size=2287157 sha256=36aeb83f3eb37e238fd6c6a18637bc1c3ad83ebe346d0099d9bd04f0711f8e08\n",
            "  Stored in directory: /root/.cache/pip/wheels/3f/ec/62/8091bc0885c55360f5ed26c1e67470a3111701b6faf938371c\n",
            "  Building wheel for ligo-segments (setup.py) ... \u001b[?25l\u001b[?25hdone\n",
            "  Created wheel for ligo-segments: filename=ligo_segments-1.4.0-cp310-cp310-linux_x86_64.whl size=99220 sha256=75cad778c000f3ce2572d3a6328199534bb6380cdba736627f31388ea61849a7\n",
            "  Stored in directory: /root/.cache/pip/wheels/6d/48/d1/3466977be4e41ba57f92ad0d5619f083df43cf319a151c4e06\n",
            "  Building wheel for python-ligo-lw (setup.py) ... \u001b[?25l\u001b[?25hdone\n",
            "  Created wheel for python-ligo-lw: filename=python_ligo_lw-1.8.3-cp310-cp310-linux_x86_64.whl size=155085 sha256=17b0e08ce36d0e1af155fe42393e44fa0d3f9321aa5c4cda4499c644c53adda4\n",
            "  Stored in directory: /root/.cache/pip/wheels/56/47/e8/75b3e1cf390f9b408944a7914964f73eb932b0cfb739c9ed1d\n",
            "  Building wheel for ptemcee (setup.py) ... \u001b[?25l\u001b[?25hdone\n",
            "  Created wheel for ptemcee: filename=ptemcee-1.0.0-py3-none-any.whl size=18532 sha256=6d63e5517826b995d7db20b03f048da9e66fa7e934c9f9b939fda0fe55d4ffb1\n",
            "  Stored in directory: /root/.cache/pip/wheels/a0/f8/78/42697fd2c2205fc9e97c3f195b5a5456616d834d1de1ecc75b\n",
            "  Building wheel for asciitree (setup.py) ... \u001b[?25l\u001b[?25hdone\n",
            "  Created wheel for asciitree: filename=asciitree-0.3.3-py3-none-any.whl size=5033 sha256=c2958919ed0e451e959484b81d002d974f30871932b56981c18c587302e013d2\n",
            "  Stored in directory: /root/.cache/pip/wheels/7f/4e/be/1171b40f43b918087657ec57cf3b81fa1a2e027d8755baa184\n",
            "Successfully built astroplan ligo-gracedb ligo-segments python-ligo-lw ptemcee asciitree\n",
            "Installing collected packages: asciitree, safe-netrc, ptemcee, numcodecs, ligo-segments, highspy, fasteners, zarr, scitokens, healpy, astropy-healpix, astroplan, reproject, lscsoft-glue, igwn-auth-utils, python-ligo-lw, ligo-gracedb, lalsuite, ligo.skymap\n",
            "Successfully installed asciitree-0.3.3 astroplan-0.10 astropy-healpix-1.0.3 fasteners-0.19 healpy-1.17.3 highspy-1.7.2 igwn-auth-utils-1.1.0 lalsuite-7.22 ligo-gracedb-2.12.0 ligo-segments-1.4.0 ligo.skymap-2.0.1 lscsoft-glue-4.0.0 numcodecs-0.13.0 ptemcee-1.0.0 python-ligo-lw-1.8.3 reproject-0.14.0 safe-netrc-1.0.1 scitokens-1.8.1 zarr-2.18.2\n"
          ]
        }
      ],
      "source": [
        "!pip install ligo.skymap 'scipy<1.14.0' 'numpy<2' highspy"
      ]
    },
    {
      "cell_type": "markdown",
      "metadata": {
        "id": "Udwp-gPzMeMP"
      },
      "source": [
        "# Mathematical Optimization: Linear and Integer Linear Programming\n",
        "\n",
        "## Linear programming: standard form\n",
        "\n",
        "Linear programming is a mathematical optimization technique that is useful for modeling and solving problems related to allocation of limited resources. A linear program is a system of linear equations and inequalities. Any linear program (LP) can be written in the following canonical form:\n",
        "\n",
        "$$\n",
        "\\begin{align*}\n",
        "\\textnormal{Find the vector } & \\mathbf{x} \\\\\n",
        "\\textnormal{that minimizes } & \\mathbf{c}^\\mathsf{T}\\mathbf{x} \\\\\n",
        "\\textnormal{subject to the constraints } & \\mathbf{A} \\mathbf{x} \\leq \\mathbf{b} \\\\\n",
        "\\textnormal{and } & \\mathbf{x} \\geq \\mathbf{0}.\n",
        "\\end{align*}\n",
        "$$\n",
        "\n",
        "(Note that usually this definition calls for maximization, not minimization, but Scipy's linear programming functions perform minimization.)\n",
        "\n",
        "## Linear programming example\n",
        "\n",
        "Prof. Muffinman and Dr. Lemonade need to purchase snacks for day 3 of their summer school. There are 30 students. Each student will write 20 lines of code per cup of tea they drink, 100 per cup of coffee, 100 per muffin, 20 per donut (because the donuts give them tummy aches), and 70 per bagel. Here are the unit prices for the treats:\n",
        "\n",
        "| Item   | Cost  |\n",
        "| ------ | ----- |\n",
        "| Tea    | $1.00 |\n",
        "| Coffee | $2.00 |\n",
        "| Muffin | $2.00 |\n",
        "| Donut  | $3.50 |\n",
        "| Bagel  | $2.00 |\n",
        "\n",
        "Each student must have at least one drink and at least one pastry, at least one of which must be a donut. The Muffinman-Lemonade lab has a budget of $180 for snacks. How many of each snack should they buy? How many lines of code do the students write?\n",
        "\n",
        "**Exercise 1.** Write down a linear cost function and a system of inequalities to model this problem.\n",
        "\n",
        "**Excercise 2.** Express this problem as LP in canonical form by writing down the values of the array $\\mathbf{A}$, the vector $\\mathbf{b}$, and the vector $\\mathbf{c}$.\n",
        "\n",
        "**Exercise 3.** Solve the LP problem using [`scipy.optimize.linprog`](https://docs.scipy.org/doc/scipy/reference/generated/scipy.optimize.linprog.html) by completing the code below. How many of each treat should Muffinman and Lemonade order?"
      ]
    },
    {
      "cell_type": "code",
      "execution_count": null,
      "metadata": {
        "id": "3LsNV6mTMeMR"
      },
      "outputs": [],
      "source": [
        "import numpy as np\n",
        "from scipy import optimize\n",
        "\n",
        "# Fill in these values\n",
        "c = ...\n",
        "A = ...\n",
        "b = ...\n",
        "\n",
        "solution = optimize.linprog(c, A, b)\n",
        "\n",
        "print(f'{-solution.fun:5g} lines of code')\n",
        "varnames = ['teas', 'coffees', 'muffins', 'donuts', 'bagels']\n",
        "for count, name in zip(solution.x, varnames):\n",
        "    print(f'{count:5g} {name}')"
      ]
    },
    {
      "cell_type": "markdown",
      "metadata": {
        "id": "_YIeNuFvMeMS"
      },
      "source": [
        "## Integer linear programming (ILP), mixed integer linear programming (MILP)\n",
        "\n",
        "Integer linear programming (ILP) is an extension of LP in which all of the decision variables $\\mathbf{x}$ are integers. In mixed integer linear programming (MILP), certain of the decision variables are reals and certain are integers.\n",
        "\n",
        "**Exercise 4.** The caterer only sells _whole_ cups of coffee and tea and _whole_ pastries. Solve the LP problem using [`scipy.optimize.milp`](https://docs.scipy.org/doc/scipy/reference/generated/scipy.optimize.milp.html) by completing the code below. How many of each treat should Muffinman and Lemonade order?"
      ]
    },
    {
      "cell_type": "code",
      "execution_count": null,
      "metadata": {
        "id": "k0vYKp9YMeMS"
      },
      "outputs": [],
      "source": [
        "solution = optimize.milp(\n",
        "    c,\n",
        "    integrality=np.ones_like(1),  # all variables must be integers\n",
        "    constraints=optimize.LinearConstraint(A, ub=b)\n",
        ")\n",
        "\n",
        "print(f'{-solution.fun:5g} lines of code')\n",
        "varnames = ['teas', 'coffees', 'muffins', 'donuts', 'bagels']\n",
        "for count, name in zip(solution.x, varnames):\n",
        "    print(f'{count:5g} {name}')"
      ]
    },
    {
      "cell_type": "markdown",
      "metadata": {
        "id": "jzzz7J_rMeMT"
      },
      "source": [
        "**Exercise 5.** There is a sale on bagels: they are half price when you buy them by the dozen. How do you incorporate this into your model?"
      ]
    },
    {
      "cell_type": "code",
      "execution_count": null,
      "metadata": {
        "id": "FadeRjoPMeMU"
      },
      "outputs": [],
      "source": [
        "import numpy as np\n",
        "from scipy import optimize\n",
        "\n",
        "# Fill in these values\n",
        "c = ...\n",
        "A = ...\n",
        "b = ...\n",
        "\n",
        "solution = optimize.milp(\n",
        "    c,\n",
        "    integrality=np.ones_like(c),\n",
        "    constraints=optimize.LinearConstraint(A, ub=b)\n",
        ")\n",
        "\n",
        "print(f'{-solution.fun:5g} lines of code')\n",
        "varnames = ['teas', 'coffees', 'muffins', 'donuts', 'bagels']\n",
        "for count, name in zip(solution.x, varnames):\n",
        "    print(f'{count:5g} {name}')"
      ]
    },
    {
      "cell_type": "markdown",
      "metadata": {
        "id": "YtLCkrXqMeMV"
      },
      "source": [
        "**Exercise 6.** Model and solve the problem using the [high-level Python interface to the HiGHS solver](https://ergo-code.github.io/HiGHS/dev/interfaces/python/).\n",
        "\n",
        "This is the same solver that SciPy uses, but it provides a higher-level interface that allows you to input the model symbollically."
      ]
    },
    {
      "cell_type": "code",
      "execution_count": null,
      "metadata": {
        "id": "9xmGPpLgMeMW"
      },
      "outputs": [],
      "source": [
        "import highspy\n",
        "\n",
        "model = highspy.Highs()\n",
        "\n",
        "# Create decision variables\n",
        "teas = model.addIntegral()\n",
        "coffees = model.addIntegral()\n",
        "# fill me in...\n",
        "muffins = model.addIntegral()\n",
        "donuts = model.addIntegral()\n",
        "bagels = model.addIntegral()\n",
        "bagel_dozens = model.addIntegral()\n",
        "bagel_singles = model.addIntegral()\n",
        "\n",
        "# Add constraints\n",
        "model.addConstr(teas + coffees >= 30)\n",
        "# fill me in...\n",
        "\n",
        "# Fill me in\n",
        "model.maximize(20 * teas + ...)\n",
        "\n",
        "print(f'{model.getObjectiveValue():5g} lines of code')\n",
        "varnames = ['teas', 'coffees', 'muffins', 'donuts', 'bagels']\n",
        "for count, name in zip(model.allVariableValues(), varnames):\n",
        "    print(f'{count:5g} {name}')"
      ]
    },
    {
      "cell_type": "markdown",
      "metadata": {
        "id": "1t-qfC2mMeMW"
      },
      "source": [
        "## MILP for astronomical observation planning\n",
        "\n",
        "Let's use MILP to plan follow-up of a LIGO-Virgo event. We'll use [S230529ay](https://gracedb.ligo.org/superevents/S230529ay/), a NSBH merger candidate that ZTF actually followed up ([GCN Circular 33900](https://gcn.nasa.gov/circulars/33900)). We'll download all of the data for you below, so all you have to do is the math! 😉\n",
        "\n",
        "### Problem setup\n",
        "\n",
        "We'll use the following Python packages to help us set up the problem:\n",
        "\n",
        "- [ligo.skymap](https://pypi.org/project/ligo.skymap/) for reading and plotting LIGO-Virgo HEALPix localization maps\n",
        "- [astropy-healpix](https://pypi.org/project/astropy-healpix/) for converting HEALPix coordinates to RA and Dec\n",
        "- [healpy](https://pypi.org/project/healpy/) for finding the HEALPix pixels contained within polygon regions\n",
        "- [astroplan](https://pypi.org/project/astroplan/) for finding when a given ZTF field is observable\n",
        "\n",
        "(Note from this point on that these examples work on Linux and macOS but _not_ Windows.)\n",
        "\n",
        "First, some imports..."
      ]
    },
    {
      "cell_type": "code",
      "execution_count": null,
      "metadata": {
        "id": "SBYuHxvgMeMX"
      },
      "outputs": [],
      "source": [
        "import warnings\n",
        "warnings.filterwarnings(\"ignore\", \"Wswiglal-redir-stdio\")\n",
        "\n",
        "import astroplan\n",
        "from astropy.coordinates import ICRS, SkyCoord\n",
        "from astropy import units as u\n",
        "from astropy.utils.data import download_file\n",
        "from astropy.table import QTable\n",
        "from astropy.time import Time\n",
        "from astropy_healpix import HEALPix\n",
        "from ligo.skymap import plot\n",
        "from ligo.skymap.io import read_sky_map\n",
        "import healpy as hp\n",
        "from matplotlib import pyplot as plt\n",
        "import numpy as np\n",
        "from tqdm.auto import tqdm\n",
        "\n",
        "warnings.simplefilter('ignore', astroplan.TargetNeverUpWarning)\n",
        "warnings.simplefilter('ignore', astroplan.TargetAlwaysUpWarning)"
      ]
    },
    {
      "cell_type": "markdown",
      "metadata": {
        "id": "dTqMACMvMeMY"
      },
      "source": [
        "### Read localization map\n",
        "\n",
        "First, we'll download and plot the sky map."
      ]
    },
    {
      "cell_type": "code",
      "execution_count": null,
      "metadata": {
        "id": "qXs6VpC_MeMY"
      },
      "outputs": [],
      "source": [
        "skymap, metadata = read_sky_map('https://gracedb.ligo.org/api/superevents/S231113bw/files/bayestar.multiorder.fits')\n",
        "\n",
        "ax = plt.axes(projection='astro mollweide')\n",
        "ax.imshow_hpx(skymap, cmap='cylon')\n",
        "ax.grid()"
      ]
    },
    {
      "cell_type": "markdown",
      "metadata": {
        "id": "NNzBwonvMeMZ"
      },
      "source": [
        "We can also get the event time from the sky map."
      ]
    },
    {
      "cell_type": "code",
      "execution_count": null,
      "metadata": {
        "id": "CVawxEbXMeMZ"
      },
      "outputs": [],
      "source": [
        "event_time = Time(metadata['gps_time'], format='gps').utc\n",
        "event_time.format = 'iso'\n",
        "event_time"
      ]
    },
    {
      "cell_type": "markdown",
      "metadata": {
        "id": "BpU4lHuDMeMZ"
      },
      "source": [
        "### Model ZTF focal plane footprint\n",
        "\n",
        "Let's create a model of the footprint of the ZTF focal plane, with the telescope pointed at a reference position of R.A.=0°, Dec.=0°."
      ]
    },
    {
      "cell_type": "code",
      "execution_count": null,
      "metadata": {
        "id": "g0jJzxCUMeMa"
      },
      "outputs": [],
      "source": [
        "# Table 1 from Bellm et al. (2019)\n",
        "# http://adsabs.harvard.edu/abs/2019PASP..131a8002B\n",
        "ns_nchips = 4\n",
        "ew_nchips = 4\n",
        "ns_npix = 6144\n",
        "ew_npix = 6160\n",
        "plate_scale = 1.01 * u.arcsec\n",
        "ns_chip_gap = 0.205 * u.deg\n",
        "ew_chip_gap = 0.140 * u.deg\n",
        "\n",
        "ns_total = ns_nchips * ns_npix * plate_scale + (ns_nchips - 1) * ns_chip_gap\n",
        "ew_total = ew_nchips * ew_npix * plate_scale + (ew_nchips - 1) * ew_chip_gap\n",
        "\n",
        "rcid = np.arange(64)\n",
        "\n",
        "chipid, rc_in_chip_id = np.divmod(rcid, 4)\n",
        "ns_chip_index, ew_chip_index = np.divmod(chipid, ew_nchips)\n",
        "ns_rc_in_chip_index = np.where(rc_in_chip_id <= 1, 1, 0)\n",
        "ew_rc_in_chip_index = np.where((rc_in_chip_id == 0) | (rc_in_chip_id == 3), 0, 1)\n",
        "\n",
        "ew_offsets = ew_chip_gap * (ew_chip_index - (ew_nchips - 1) / 2) + ew_npix * plate_scale * (ew_chip_index - ew_nchips / 2) + 0.5 * ew_rc_in_chip_index * plate_scale * ew_npix\n",
        "ns_offsets = ns_chip_gap * (ns_chip_index - (ns_nchips - 1) / 2) + ns_npix * plate_scale * (ns_chip_index - ns_nchips / 2) + 0.5 * ns_rc_in_chip_index * plate_scale * ns_npix\n",
        "\n",
        "ew_ccd_corners = 0.5 * plate_scale * np.asarray([ew_npix, 0, 0, ew_npix])\n",
        "ns_ccd_corners = 0.5 * plate_scale * np.asarray([ns_npix, ns_npix, 0, 0])\n",
        "\n",
        "ew_vertices = ew_offsets[:, np.newaxis] + ew_ccd_corners[np.newaxis, :]\n",
        "ns_vertices = ns_offsets[:, np.newaxis] + ns_ccd_corners[np.newaxis, :]\n",
        "\n",
        "\n",
        "def get_footprint(center):\n",
        "    \"\"\"Return the footprint of the ZTF camera centered at the given position.\n",
        "\n",
        "    Parameters\n",
        "    ----------\n",
        "    center : astropy.coordinates.SkyCoord\n",
        "        The center of the field or fields: either a single (scalar) sky coord\n",
        "        or an array of sky coordinates of any size.\n",
        "\n",
        "    Returns\n",
        "    -------\n",
        "    coords : astropy.coordinates.SkyCoord\n",
        "        An array of coordinates. If the center is a single sky coordinate, then\n",
        "        the returned array has shape (64, 4), representing the vertices of 64\n",
        "        quadrilaterals. If the center is an array of shape (n, m, ...), then\n",
        "        the returned array has shape (n, m, ..., 64, 4).\n",
        "    \"\"\"\n",
        "    return SkyCoord(\n",
        "        ew_vertices, ns_vertices,\n",
        "        frame=center[..., np.newaxis, np.newaxis].skyoffset_frame()\n",
        "    ).icrs\n",
        "\n",
        "\n",
        "center = SkyCoord(0 * u.deg, 0 * u.deg)\n",
        "fig = plt.figure(figsize=(8, 8))\n",
        "ax = plt.axes(projection='astro zoom', center='0d 0d', radius=5 * u.deg)\n",
        "for i, verts in enumerate(get_footprint(center)):\n",
        "    rc_center = SkyCoord(*verts.cartesian.xyz.sum(1), representation_type='cartesian')\n",
        "    rc_center.representation_type = 'unitspherical'\n",
        "    ax.add_patch(plt.Polygon(np.column_stack((verts.ra.deg, verts.dec.deg)), edgecolor='k', facecolor='none', transform=ax.get_transform('world')))\n",
        "    ax.text(rc_center.ra.deg, rc_center.dec.deg, str(i), transform=ax.get_transform('world'), ha='center', va='center')"
      ]
    },
    {
      "cell_type": "markdown",
      "metadata": {
        "id": "CnFAYVt_MeMa"
      },
      "source": [
        "### Fetch ZTF field grid\n",
        "\n",
        "Let's download the ZTF field grid from GitHub.\n",
        "\n",
        "(Note that the ZTF field IDs start from 1, and that there are some ranges that are skipped, so the index of a row in this array does not exactly match the field ID. This won't matter for this exercise, but just be aware of it if you are reusing the code in this notebook!)"
      ]
    },
    {
      "cell_type": "code",
      "execution_count": null,
      "metadata": {
        "id": "-HAJu4wKMeMb"
      },
      "outputs": [],
      "source": [
        "url = 'https://github.com/ZwickyTransientFacility/ztf_information/raw/master/field_grid/ZTF_Fields.txt'\n",
        "filename = download_file(url)\n",
        "field_grid = QTable(np.recfromtxt(filename, comments='%', usecols=range(3), names=['field_id', 'ra', 'dec']))\n",
        "field_grid['coord'] = SkyCoord(field_grid.columns.pop('ra') * u.deg, field_grid.columns.pop('dec') * u.deg)\n",
        "field_grid"
      ]
    },
    {
      "cell_type": "code",
      "execution_count": null,
      "metadata": {
        "id": "af1KlizjMeMb"
      },
      "outputs": [],
      "source": [
        "plt.figure(figsize=(10, 8))\n",
        "ax = plt.axes(projection='astro mollweide')\n",
        "for row in field_grid:\n",
        "    coords = SkyCoord(\n",
        "        [ew_total, -ew_total, -ew_total, ew_total],\n",
        "        [ns_total, ns_total, -ns_total, -ns_total],\n",
        "        frame=row['coord'].skyoffset_frame()\n",
        "    ).icrs\n",
        "    ax.add_patch(plt.Polygon(\n",
        "        np.column_stack((coords.ra.deg, coords.dec.deg)),\n",
        "        alpha=0.5,\n",
        "        facecolor='none',\n",
        "        edgecolor='black',\n",
        "        transform=ax.get_transform('world')\n",
        "    ))"
      ]
    },
    {
      "cell_type": "markdown",
      "metadata": {
        "id": "-6bfculbMeMb"
      },
      "source": [
        "### Select fields that are observable\n",
        "\n",
        "We'll filter for fields that are observable at any point during the night."
      ]
    },
    {
      "cell_type": "code",
      "execution_count": null,
      "metadata": {
        "id": "u_ffb1giMeMc"
      },
      "outputs": [],
      "source": [
        "# Observer site\n",
        "observer = astroplan.Observer.at_site('Palomar')\n",
        "\n",
        "# Find the earliest possible start time of observations.\n",
        "# If it's night time (defined here as the sun being at least 18°\n",
        "# below the horizon for astronomical twilight), then the start\n",
        "# time is the time of the event. Otherwise, it's the time of sunset.\n",
        "night_horizon = -18 * u.deg\n",
        "if observer.is_night(event_time, horizon=night_horizon):\n",
        "    start_time = event_time\n",
        "else:\n",
        "    start_time = observer.sun_set_time(\n",
        "        event_time, horizon=night_horizon, which='next')\n",
        "\n",
        "# Find the latest possible end time of observations: the time of sunrise.\n",
        "end_time = observer.sun_rise_time(\n",
        "    start_time, horizon=night_horizon, which='next')\n",
        "\n",
        "\n",
        "min_airmass = 2.5 * u.dimensionless_unscaled\n",
        "airmass_horizon = (90 * u.deg - np.arccos(1 / min_airmass))\n",
        "targets = field_grid['coord']\n",
        "\n",
        "# Find the time that each field rises and sets above an airmass of 2.5.\n",
        "target_start_time = Time(np.where(\n",
        "    observer.target_is_up(start_time, targets, horizon=airmass_horizon),\n",
        "    start_time,\n",
        "    observer.target_rise_time(start_time, targets, which='next', horizon=airmass_horizon)))\n",
        "target_start_time.format = 'iso'\n",
        "\n",
        "# Find the time that each field sets below the airmass limit. If the target\n",
        "# is always up (i.e., it's circumpolar) or if it sets after surnsise,\n",
        "# then set the end time to sunrise.\n",
        "target_end_time = observer.target_set_time(\n",
        "    target_start_time, targets, which='next', horizon=airmass_horizon)\n",
        "target_end_time[\n",
        "    (target_end_time.mask & ~target_start_time.mask) | (target_end_time > end_time)\n",
        "] = end_time\n",
        "target_end_time.format = 'iso'\n",
        "\n",
        "# Select fields that are observable for long enough for at least one exposure\n",
        "# sequence of 1800 seconds.\n",
        "exposure_time = 1800 * u.second\n",
        "field_grid['start_time'] = target_start_time\n",
        "field_grid['end_time'] = target_end_time\n",
        "observable_fields = field_grid[target_end_time - target_start_time >= exposure_time]\n",
        "observable_fields"
      ]
    },
    {
      "cell_type": "code",
      "execution_count": null,
      "metadata": {
        "id": "Q6idIhf_MeMc"
      },
      "outputs": [],
      "source": [
        "plt.figure(figsize=(10, 8))\n",
        "ax = plt.axes(projection='astro mollweide')\n",
        "for row in observable_fields:\n",
        "    coords = SkyCoord(\n",
        "        [ew_total, -ew_total, -ew_total, ew_total],\n",
        "        [ns_total, ns_total, -ns_total, -ns_total],\n",
        "        frame=row['coord'].skyoffset_frame()\n",
        "    ).icrs\n",
        "    ax.add_patch(plt.Polygon(\n",
        "        np.column_stack((coords.ra.deg, coords.dec.deg)),\n",
        "        alpha=0.5,\n",
        "        facecolor='none',\n",
        "        edgecolor='black',\n",
        "        transform=ax.get_transform('world')\n",
        "    ))"
      ]
    },
    {
      "cell_type": "markdown",
      "metadata": {
        "id": "xrw3hdc4MeMd"
      },
      "source": [
        "### HEALPix representation of ZTF focal plane footprint\n",
        "\n",
        "Now we will model the ZTF focal plane by computing the HEALPix pixel indices contained within the region.\n",
        "\n",
        "Play the value of `nside` to adjust the HEALPix resolution. It must be an integer power of 2.\n",
        "\n",
        "**Exercise 7.** What is the minimum HEALPix resolution to resolve all of the chip gaps?\n",
        "\n",
        "Note that values much larger than `nside=128` will result in problems that take a very long time to solve with HiGHS, and for which you might need to use a professional solver like [CPLEX](https://www.ibm.com/products/ilog-cplex-optimization-studio/cplex-optimizer), [Gurobi](https://www.gurobi.com), or [FICO Xpress](https://www.fico.com/en/products/fico-xpress-optimization)."
      ]
    },
    {
      "cell_type": "code",
      "execution_count": null,
      "metadata": {
        "id": "4Uum1P0vMeMd"
      },
      "outputs": [],
      "source": [
        "# fill me in: play with the value of nside!\n",
        "hpx = HEALPix(nside=128, frame=ICRS())\n",
        "\n",
        "footprint = np.moveaxis(\n",
        "    get_footprint(SkyCoord(0 * u.deg, 0 * u.deg)).cartesian.xyz.value, 0, -1)\n",
        "footprint_healpix = np.unique(np.concatenate(\n",
        "    [hp.query_polygon(hpx.nside, v, nest=(hpx.order == 'nested')) for v in footprint]))\n",
        "\n",
        "fig = plt.figure(figsize=(8, 8))\n",
        "ax = plt.axes(projection='astro zoom', center='0d 0d', radius=5 * u.deg)\n",
        "for boundary in hpx.boundaries_skycoord(footprint_healpix, 1):\n",
        "    ax.add_patch(plt.Polygon(np.column_stack((boundary.ra.deg, boundary.dec.deg)), edgecolor='k', facecolor='lightgray', transform=ax.get_transform('world')))\n"
      ]
    },
    {
      "cell_type": "markdown",
      "metadata": {
        "id": "2EqF4pjhMeMd"
      },
      "source": [
        "Now that we have selected a nice resolution, compute the footprints of every ZTF field as HEALPix indices. Also downsample the sky map to the same resolution."
      ]
    },
    {
      "cell_type": "code",
      "execution_count": null,
      "metadata": {
        "id": "-Xs0QzpWMeMd"
      },
      "outputs": [],
      "source": [
        "footprints = np.moveaxis(get_footprint(observable_fields['coord']).cartesian.xyz.value, 0, -1)\n",
        "footprints_healpix = [\n",
        "    np.unique(np.concatenate([hp.query_polygon(hpx.nside, v) for v in footprint]))\n",
        "    for footprint in tqdm(footprints)]\n",
        "\n",
        "prob = hp.ud_grade(skymap, hpx.nside, power=-2)"
      ]
    },
    {
      "cell_type": "markdown",
      "metadata": {
        "id": "xzkfvaKTMeMe"
      },
      "source": [
        "Now it's your turn to do the math!\n",
        "\n",
        "### Optimal tiling using max weighted coverage\n",
        "\n",
        "**Exercise 8.** Which 30 fields should ZTF observe in order to follow up this GW event? How much probability is contained in those fields?\n",
        "\n",
        "Hint: Construct a max weighted coverage model of this problem. Express it as a MILP. Write the MILP model in HiGHS and solve it."
      ]
    },
    {
      "cell_type": "code",
      "execution_count": null,
      "metadata": {
        "id": "OsOejFQoMeMe"
      },
      "outputs": [],
      "source": [
        "model = highspy.Highs()\n",
        "\n",
        "field_vars = [model.addBinary() for _ in range(len(footprints))]\n",
        "pixel_vars = [model.addBinary() for _ in range(hpx.npix)]\n",
        "\n",
        "# fill me in...\n",
        "model.addConstr(...)\n",
        "model.maximize(...)"
      ]
    },
    {
      "cell_type": "markdown",
      "metadata": {
        "id": "F8enx3ANMeMe"
      },
      "source": [
        "How much probability is contained in the fields that we selected?"
      ]
    },
    {
      "cell_type": "code",
      "execution_count": null,
      "metadata": {
        "id": "s_ereEQfMeMe"
      },
      "outputs": [],
      "source": [
        "model.getObjectiveValue()"
      ]
    },
    {
      "cell_type": "markdown",
      "metadata": {
        "id": "Qeij0kF0MeMf"
      },
      "source": [
        "Which fields did you pick to observe?"
      ]
    },
    {
      "cell_type": "code",
      "execution_count": null,
      "metadata": {
        "id": "D1zirwBCMeMf"
      },
      "outputs": [],
      "source": [
        "selected_fields = observable_fields[np.asarray(model.variableValues(field_vars), dtype=bool)]\n",
        "selected_fields"
      ]
    },
    {
      "cell_type": "markdown",
      "metadata": {
        "id": "kwbiCIK6MeMf"
      },
      "source": [
        "Plot the fields that you selected to observe."
      ]
    },
    {
      "cell_type": "code",
      "execution_count": null,
      "metadata": {
        "id": "IB6HqGIxMeMg"
      },
      "outputs": [],
      "source": [
        "plt.figure(figsize=(10, 8))\n",
        "ax = plt.axes(projection='astro mollweide')\n",
        "for row in selected_fields:\n",
        "    coords = SkyCoord(\n",
        "        [ew_total, -ew_total, -ew_total, ew_total],\n",
        "        [ns_total, ns_total, -ns_total, -ns_total],\n",
        "        frame=row['coord'].skyoffset_frame()\n",
        "    ).icrs\n",
        "    ax.add_patch(plt.Polygon(\n",
        "        np.column_stack((coords.ra.deg, coords.dec.deg)),\n",
        "        alpha=0.5,\n",
        "        facecolor='lightgray',\n",
        "        edgecolor='black',\n",
        "        transform=ax.get_transform('world')\n",
        "    ))\n",
        "ax.grid()"
      ]
    },
    {
      "cell_type": "markdown",
      "metadata": {
        "id": "C1I8jO4CMeMg"
      },
      "source": [
        "### Optimal scheduling\n",
        "\n",
        "Now that we have identified which fields to observe, it's time to schedule them: we must decide which fields to observe in what order. For this problem we are going to make use of our **Logical constraints ↔︎ ILP translation dictionary** from the lecture.\n",
        "\n",
        "We start our model by creating two vectors of decision variables:\n",
        "- The binary vector $\\mathbf{x} = (x_1, x_2, \\dots, x_n)$, where $x_i$ is 1 if we decide to observe field $i$, otherwise 0.\n",
        "- The real vector $\\mathbf{t} = (t_1, t_2, \\dots, t_n)$, where $t_i$ is the start time of the observation of field $i$. Each of these variables will have a lower bound that is the earliest time that the field can be observed, and an upper bound that is the latest time that it can be observed.\n",
        "\n",
        "We want to maximize the total number of fields that we can observe, $\\sum_i x_i$.\n",
        "\n",
        "We need to add some constraints to ensure that the observations do not overlap: we can observe at most one field at a time. If the duration of each exposure is $\\delta$, then in \"pseudocode\" these constraints are:\n",
        "\n",
        "$$\n",
        "\\textnormal{if } x_i = 1, \\textnormal{ then } t_i + \\delta \\leq t_j \\textnormal{ or } t_j + \\delta \\leq t_i \\textnormal{ for all } j < i.\n",
        "$$\n",
        "\n",
        "**Exercise 9**. Using the **Logical constraints ↔︎ ILP translation dictionary**, express the no-overlap constraints above as a system of linear inequalities suitable for a MILP.\n",
        "\n",
        "Hint: you'll probably use the big-M trick!\n",
        "\n",
        "**Exercise 10**. Complete the code below to model the schedule as an MILP and find the order in which to obseve the ZTF fields."
      ]
    },
    {
      "cell_type": "code",
      "execution_count": null,
      "metadata": {
        "id": "Y--YbOgfMeMg"
      },
      "outputs": [],
      "source": [
        "model = highspy.Highs()\n",
        "\n",
        "# Limit run time; this can take while to solve!\n",
        "# The solver will try to find the best feasible solution within the time limit.\n",
        "model.setOptionValue('time_limit', 60)\n",
        "\n",
        "delta = exposure_time.to_value(u.day)\n",
        "# Fill me in\n",
        "M = ...\n",
        "\n",
        "t = [model.addVariable(\n",
        "        lb=(row['start_time'] - start_time).to_value(u.day),\n",
        "        ub=(row['end_time'] - start_time - exposure_time).to_value(u.day),\n",
        "     ) for row in selected_fields]\n",
        "x = [model.addBinary() for _ in range(len(t))]\n",
        "s = [[model.addBinary() for j in range(i)] for i in range(len(t))]\n",
        "\n",
        "# Fill me in, add constraints...\n",
        "model.addConstr(...)\n",
        "model.maximize(...)"
      ]
    },
    {
      "cell_type": "markdown",
      "metadata": {
        "id": "ogcqXjAvMeMh"
      },
      "source": [
        "Which fields did you choose to observe?"
      ]
    },
    {
      "cell_type": "code",
      "execution_count": null,
      "metadata": {
        "id": "wMWkzSNjMeMq"
      },
      "outputs": [],
      "source": [
        "scheduled_fields = QTable(selected_fields)\n",
        "scheduled_fields['scheduled_start_time'] = Time(model.variableValues(t) + start_time, format='mjd')\n",
        "scheduled_fields['scheduled_start_time'].format = 'iso'\n",
        "scheduled_fields['scheduled_end_time'] = scheduled_fields['scheduled_start_time'] + exposure_time\n",
        "scheduled_fields = scheduled_fields[np.asarray(model.variableValues(x), dtype=bool)]\n",
        "scheduled_fields.sort('scheduled_start_time')\n",
        "scheduled_fields"
      ]
    },
    {
      "cell_type": "markdown",
      "metadata": {
        "id": "PNwwiPR7MeMr"
      },
      "source": [
        "Plot the scheduled intervals to check that they do not overlap."
      ]
    },
    {
      "cell_type": "code",
      "execution_count": null,
      "metadata": {
        "id": "XJVokUQsMeMr"
      },
      "outputs": [],
      "source": [
        "ax = plt.axes()\n",
        "ax.hlines(\n",
        "    np.arange(len(scheduled_fields)),\n",
        "    scheduled_fields['scheduled_start_time'].mjd,\n",
        "    scheduled_fields['scheduled_end_time'].mjd)\n",
        "ax.set_yticks(np.arange(len(scheduled_fields)), scheduled_fields['field_id'].astype(str))\n",
        "ax.set_xlabel('Observation time (MJD)')\n",
        "ax.set_ylabel('field ID')"
      ]
    }
  ],
  "metadata": {
    "kernelspec": {
      "display_name": "Python 3",
      "language": "python",
      "name": "python3"
    },
    "language_info": {
      "codemirror_mode": {
        "name": "ipython",
        "version": 3
      },
      "file_extension": ".py",
      "mimetype": "text/x-python",
      "name": "python",
      "nbconvert_exporter": "python",
      "pygments_lexer": "ipython3",
      "version": "3.11.9"
    },
    "colab": {
      "provenance": []
    }
  },
  "nbformat": 4,
  "nbformat_minor": 0
}